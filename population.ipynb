{
 "cells": [
  {
   "cell_type": "code",
   "execution_count": 73,
   "metadata": {},
   "outputs": [],
   "source": [
    "import findspark"
   ]
  },
  {
   "cell_type": "code",
   "execution_count": 74,
   "metadata": {},
   "outputs": [],
   "source": [
    "findspark.init('C:\\spark')"
   ]
  },
  {
   "cell_type": "code",
   "execution_count": 75,
   "metadata": {},
   "outputs": [],
   "source": [
    "from pyspark.sql import SparkSession"
   ]
  },
  {
   "cell_type": "code",
   "execution_count": 76,
   "metadata": {},
   "outputs": [],
   "source": [
    "spark = SparkSession.builder.appName(\"Basics\").getOrCreate()"
   ]
  },
  {
   "cell_type": "code",
   "execution_count": 77,
   "metadata": {},
   "outputs": [],
   "source": [
    "dataset = spark.read.format(\"csv\").option(\"header\",\"true\").load(\"statesPopulation.csv\")"
   ]
  },
  {
   "cell_type": "code",
   "execution_count": 78,
   "metadata": {},
   "outputs": [
    {
     "name": "stdout",
     "output_type": "stream",
     "text": [
      "+--------------------+----+----------+\n",
      "|               State|Year|Population|\n",
      "+--------------------+----+----------+\n",
      "|             Alabama|2010|   4785492|\n",
      "|              Alaska|2010|    714031|\n",
      "|             Arizona|2010|   6408312|\n",
      "|            Arkansas|2010|   2921995|\n",
      "|          California|2010|  37332685|\n",
      "|            Colorado|2010|   5048644|\n",
      "|            Delaware|2010|    899816|\n",
      "|District of Columbia|2010|    605183|\n",
      "|             Florida|2010|  18849098|\n",
      "|             Georgia|2010|   9713521|\n",
      "|              Hawaii|2010|   1363945|\n",
      "|               Idaho|2010|   1571010|\n",
      "|            Illinois|2010|  12841578|\n",
      "|             Indiana|2010|   6490528|\n",
      "|                Iowa|2010|   3050738|\n",
      "|              Kansas|2010|   2858850|\n",
      "|            Kentucky|2010|   4348662|\n",
      "|           Louisiana|2010|   4544996|\n",
      "|               Maine|2010|   1327730|\n",
      "|            Maryland|2010|   5788584|\n",
      "+--------------------+----+----------+\n",
      "only showing top 20 rows\n",
      "\n"
     ]
    }
   ],
   "source": [
    "dataset.show()"
   ]
  },
  {
   "cell_type": "code",
   "execution_count": 79,
   "metadata": {},
   "outputs": [
    {
     "data": {
      "text/plain": [
       "StructType(List(StructField(State,StringType,true),StructField(Year,StringType,true),StructField(Population,StringType,true)))"
      ]
     },
     "execution_count": 79,
     "metadata": {},
     "output_type": "execute_result"
    }
   ],
   "source": [
    "dataset.schema"
   ]
  },
  {
   "cell_type": "code",
   "execution_count": 80,
   "metadata": {},
   "outputs": [
    {
     "name": "stdout",
     "output_type": "stream",
     "text": [
      "root\n",
      " |-- State: string (nullable = true)\n",
      " |-- Year: string (nullable = true)\n",
      " |-- Population: string (nullable = true)\n",
      "\n"
     ]
    }
   ],
   "source": [
    "dataset.printSchema()"
   ]
  },
  {
   "cell_type": "code",
   "execution_count": 81,
   "metadata": {},
   "outputs": [],
   "source": [
    "from pyspark.sql.types import(StructField, StringType,\n",
    "                                 FloatType,IntegerType)"
   ]
  },
  {
   "cell_type": "code",
   "execution_count": 82,
   "metadata": {},
   "outputs": [],
   "source": [
    "data_schema=[StructField(\"State\",StringType(),True),\n",
    "            StructField(\"Year\",StringType(),True),\n",
    "            StructField(\"Population\",FloatType(),True)]\n",
    "           "
   ]
  },
  {
   "cell_type": "code",
   "execution_count": 83,
   "metadata": {},
   "outputs": [],
   "source": [
    "final_struct = StructType(fields = data_schema)"
   ]
  },
  {
   "cell_type": "code",
   "execution_count": 84,
   "metadata": {},
   "outputs": [],
   "source": [
    "dataset = spark.read.format(\"csv\").option(\"header\",\"true\").schema(final_struct).load(\"statesPopulation.csv\")"
   ]
  },
  {
   "cell_type": "code",
   "execution_count": 85,
   "metadata": {},
   "outputs": [
    {
     "name": "stdout",
     "output_type": "stream",
     "text": [
      "root\n",
      " |-- State: string (nullable = true)\n",
      " |-- Year: string (nullable = true)\n",
      " |-- Population: float (nullable = true)\n",
      "\n"
     ]
    }
   ],
   "source": [
    "dataset.printSchema()"
   ]
  },
  {
   "cell_type": "code",
   "execution_count": 86,
   "metadata": {},
   "outputs": [
    {
     "name": "stdout",
     "output_type": "stream",
     "text": [
      "+--------------------+----+-----------+\n",
      "|               State|Year| Population|\n",
      "+--------------------+----+-----------+\n",
      "|             Alabama|2010|  4785492.0|\n",
      "|              Alaska|2010|   714031.0|\n",
      "|             Arizona|2010|  6408312.0|\n",
      "|            Arkansas|2010|  2921995.0|\n",
      "|          California|2010|3.7332684E7|\n",
      "|            Colorado|2010|  5048644.0|\n",
      "|            Delaware|2010|   899816.0|\n",
      "|District of Columbia|2010|   605183.0|\n",
      "|             Florida|2010|1.8849098E7|\n",
      "|             Georgia|2010|  9713521.0|\n",
      "|              Hawaii|2010|  1363945.0|\n",
      "|               Idaho|2010|  1571010.0|\n",
      "|            Illinois|2010|1.2841578E7|\n",
      "|             Indiana|2010|  6490528.0|\n",
      "|                Iowa|2010|  3050738.0|\n",
      "|              Kansas|2010|  2858850.0|\n",
      "|            Kentucky|2010|  4348662.0|\n",
      "|           Louisiana|2010|  4544996.0|\n",
      "|               Maine|2010|  1327730.0|\n",
      "|            Maryland|2010|  5788584.0|\n",
      "+--------------------+----+-----------+\n",
      "only showing top 20 rows\n",
      "\n"
     ]
    }
   ],
   "source": [
    "dataset.show()"
   ]
  },
  {
   "cell_type": "code",
   "execution_count": 87,
   "metadata": {},
   "outputs": [
    {
     "name": "stdout",
     "output_type": "stream",
     "text": [
      "+--------------------+\n",
      "|               State|\n",
      "+--------------------+\n",
      "|                Utah|\n",
      "|              Hawaii|\n",
      "|           Minnesota|\n",
      "|                Ohio|\n",
      "|            Arkansas|\n",
      "|              Oregon|\n",
      "|               Texas|\n",
      "|        North Dakota|\n",
      "|        Pennsylvania|\n",
      "|            Nebraska|\n",
      "|             Vermont|\n",
      "|              Nevada|\n",
      "|          Washington|\n",
      "|            Illinois|\n",
      "|            Oklahoma|\n",
      "|District of Columbia|\n",
      "|            Delaware|\n",
      "|              Alaska|\n",
      "|          New Mexico|\n",
      "|       West Virginia|\n",
      "+--------------------+\n",
      "only showing top 20 rows\n",
      "\n"
     ]
    }
   ],
   "source": [
    "dataset.select(\"State\").distinct().show()"
   ]
  },
  {
   "cell_type": "code",
   "execution_count": 88,
   "metadata": {},
   "outputs": [],
   "source": [
    "dataset.createOrReplaceTempView(\"states\")\n",
    "dfstate = spark.sql(\"SELECT State,Sum(Population) FROM states GROUP BY State ORDER BY State asc\")"
   ]
  },
  {
   "cell_type": "code",
   "execution_count": 89,
   "metadata": {},
   "outputs": [
    {
     "name": "stdout",
     "output_type": "stream",
     "text": [
      "+--------------------+---------------+\n",
      "|               State|sum(Population)|\n",
      "+--------------------+---------------+\n",
      "|             Alabama|    3.3771238E7|\n",
      "|              Alaska|      5121020.0|\n",
      "|             Arizona|    4.6518355E7|\n",
      "|            Arkansas|    2.0703849E7|\n",
      "|          California|   2.68280584E8|\n",
      "|            Colorado|    3.6963486E7|\n",
      "|            Delaware|      6481217.0|\n",
      "|District of Columbia|      4520704.0|\n",
      "|             Florida|   1.37618322E8|\n",
      "|             Georgia|    7.0021737E7|\n",
      "|              Hawaii|      9810173.0|\n",
      "|               Idaho|    1.1332575E7|\n",
      "|            Illinois|    8.9960023E7|\n",
      "|             Indiana|    4.5954907E7|\n",
      "|                Iowa|    2.1648921E7|\n",
      "|              Kansas|    2.0219806E7|\n",
      "|            Kentucky|    3.0777934E7|\n",
      "|           Louisiana|    3.2348737E7|\n",
      "|               Maine|      9305583.0|\n",
      "|            Maryland|    4.1431692E7|\n",
      "+--------------------+---------------+\n",
      "only showing top 20 rows\n",
      "\n"
     ]
    }
   ],
   "source": [
    "dfstate.show()"
   ]
  },
  {
   "cell_type": "code",
   "execution_count": 90,
   "metadata": {},
   "outputs": [
    {
     "name": "stdout",
     "output_type": "stream",
     "text": [
      "+----------+-----------+----+\n",
      "|     State| Population|Year|\n",
      "+----------+-----------+----+\n",
      "|California|3.9250016E7|2016|\n",
      "|California| 3.899394E7|2015|\n",
      "|California|3.8680808E7|2014|\n",
      "|California|3.8335204E7|2013|\n",
      "|California|3.8011072E7|2012|\n",
      "|California| 3.767686E7|2011|\n",
      "|California|3.7332684E7|2010|\n",
      "|     Texas|2.7862596E7|2016|\n",
      "|     Texas| 2.742964E7|2015|\n",
      "|     Texas|2.6944752E7|2014|\n",
      "|     Texas|2.6473524E7|2013|\n",
      "|     Texas|2.6071656E7|2012|\n",
      "|     Texas|2.5646388E7|2011|\n",
      "|     Texas| 2.524431E7|2010|\n",
      "|   Florida| 2.061244E7|2016|\n",
      "|   Florida|2.0244914E7|2015|\n",
      "|   Florida| 1.988874E7|2014|\n",
      "|  New York|1.9747184E7|2015|\n",
      "|  New York|1.9745288E7|2016|\n",
      "|  New York|1.9718516E7|2014|\n",
      "+----------+-----------+----+\n",
      "only showing top 20 rows\n",
      "\n"
     ]
    }
   ],
   "source": [
    "dataset.orderBy(dataset[\"Population\"].desc()).select([\"State\", \"Population\",\"Year\"]).show()"
   ]
  },
  {
   "cell_type": "code",
   "execution_count": 91,
   "metadata": {},
   "outputs": [
    {
     "data": {
      "text/plain": [
       "True"
      ]
     },
     "execution_count": 91,
     "metadata": {},
     "output_type": "execute_result"
    }
   ],
   "source": [
    "dataset.createOrReplaceTempView(\"table1\")\n",
    "df2 = spark.table(\"table1\")\n",
    "sorted(dataset.collect()) == sorted(df2.collect())"
   ]
  },
  {
   "cell_type": "code",
   "execution_count": 92,
   "metadata": {},
   "outputs": [
    {
     "name": "stdout",
     "output_type": "stream",
     "text": [
      "+--------------------+----+-----------+\n",
      "|               State|Year| Population|\n",
      "+--------------------+----+-----------+\n",
      "|             Alabama|2010|  4785492.0|\n",
      "|              Alaska|2010|   714031.0|\n",
      "|             Arizona|2010|  6408312.0|\n",
      "|            Arkansas|2010|  2921995.0|\n",
      "|          California|2010|3.7332684E7|\n",
      "|            Colorado|2010|  5048644.0|\n",
      "|            Delaware|2010|   899816.0|\n",
      "|District of Columbia|2010|   605183.0|\n",
      "|             Florida|2010|1.8849098E7|\n",
      "|             Georgia|2010|  9713521.0|\n",
      "|              Hawaii|2010|  1363945.0|\n",
      "|               Idaho|2010|  1571010.0|\n",
      "|            Illinois|2010|1.2841578E7|\n",
      "|             Indiana|2010|  6490528.0|\n",
      "|                Iowa|2010|  3050738.0|\n",
      "|              Kansas|2010|  2858850.0|\n",
      "|            Kentucky|2010|  4348662.0|\n",
      "|           Louisiana|2010|  4544996.0|\n",
      "|               Maine|2010|  1327730.0|\n",
      "|            Maryland|2010|  5788584.0|\n",
      "+--------------------+----+-----------+\n",
      "only showing top 20 rows\n",
      "\n"
     ]
    }
   ],
   "source": [
    "df2.show()"
   ]
  },
  {
   "cell_type": "code",
   "execution_count": 93,
   "metadata": {},
   "outputs": [
    {
     "name": "stdout",
     "output_type": "stream",
     "text": [
      "+--------------------+----+-----------+\n",
      "|               State|Year| Population|\n",
      "+--------------------+----+-----------+\n",
      "|             Alabama|2010|  4785492.0|\n",
      "|             Alabama|2014|  4843214.0|\n",
      "|              Alaska|2010|   714031.0|\n",
      "|              Alaska|2014|   736705.0|\n",
      "|             Arizona|2010|  6408312.0|\n",
      "|             Arizona|2014|  6719993.0|\n",
      "|            Arkansas|2010|  2921995.0|\n",
      "|            Arkansas|2014|  2966912.0|\n",
      "|          California|2010|3.7332684E7|\n",
      "|          California|2014|3.8680808E7|\n",
      "|            Colorado|2014|  5349648.0|\n",
      "|            Colorado|2010|  5048644.0|\n",
      "|            Delaware|2010|   899816.0|\n",
      "|            Delaware|2014|   934948.0|\n",
      "|District of Columbia|2010|   605183.0|\n",
      "|District of Columbia|2014|   659005.0|\n",
      "|             Florida|2014| 1.988874E7|\n",
      "|             Florida|2010|1.8849098E7|\n",
      "|             Georgia|2010|  9713521.0|\n",
      "|             Georgia|2014|1.0087231E7|\n",
      "+--------------------+----+-----------+\n",
      "only showing top 20 rows\n",
      "\n"
     ]
    }
   ],
   "source": [
    "dataset.orderBy(dataset[\"State\"].asc()).filter((dataset[\"Year\"] ==2010) |\n",
    "                                               (dataset['Year'] == 2014)).select(['State','Year','Population']).show()\n"
   ]
  },
  {
   "cell_type": "code",
   "execution_count": 94,
   "metadata": {},
   "outputs": [],
   "source": [
    "reshaped_df = dataset.orderBy(dataset[\"State\"].asc()).groupby('State').pivot('Year').max('Population').fillna(0)"
   ]
  },
  {
   "cell_type": "code",
   "execution_count": 95,
   "metadata": {},
   "outputs": [
    {
     "name": "stdout",
     "output_type": "stream",
     "text": [
      "+--------------------+-----------+-----------+-----------+-----------+-----------+-----------+-----------+\n",
      "|               State|       2010|       2011|       2012|       2013|       2014|       2015|       2016|\n",
      "+--------------------+-----------+-----------+-----------+-----------+-----------+-----------+-----------+\n",
      "|             Alabama|  4785492.0|  4779918.0|  4815960.0|  4829479.0|  4843214.0|  4853875.0|  4863300.0|\n",
      "|              Alaska|   714031.0|   722713.0|   731089.0|   736879.0|   736705.0|   737709.0|   741894.0|\n",
      "|             Arizona|  6408312.0|  6467163.0|  6549634.0|  6624617.0|  6719993.0|  6817565.0|  6931071.0|\n",
      "|            Arkansas|  2921995.0|  2939493.0|  2950685.0|  2958663.0|  2966912.0|  2977853.0|  2988248.0|\n",
      "|          California|3.7332684E7| 3.767686E7|3.8011072E7|3.8335204E7|3.8680808E7| 3.899394E7|3.9250016E7|\n",
      "|            Colorado|  5048644.0|  5118360.0|  5189867.0|  5267603.0|  5349648.0|  5448819.0|  5540545.0|\n",
      "|            Delaware|   899816.0|   907924.0|   916993.0|   925395.0|   934948.0|   944076.0|   952065.0|\n",
      "|District of Columbia|   605183.0|   620477.0|   635327.0|   649165.0|   659005.0|   670377.0|   681170.0|\n",
      "|             Florida|1.8849098E7|1.9096952E7|1.9344156E7|1.9582022E7| 1.988874E7|2.0244914E7| 2.061244E7|\n",
      "|             Georgia|  9713521.0|  9811610.0|  9914668.0|  9984938.0|1.0087231E7|1.0199398E7|1.0310371E7|\n",
      "|              Hawaii|  1363945.0|  1377864.0|  1391820.0|  1406481.0|  1416349.0|  1425157.0|  1428557.0|\n",
      "|               Idaho|  1571010.0|  1584143.0|  1595911.0|  1612011.0|  1633532.0|  1652828.0|  1683140.0|\n",
      "|            Illinois|1.2841578E7|1.2860012E7|1.2870798E7|1.2879505E7|1.2867544E7|1.2839047E7|1.2801539E7|\n",
      "|             Indiana|  6490528.0|  6516480.0|  6537743.0|  6569102.0|  6595233.0|  6612768.0|  6633053.0|\n",
      "|                Iowa|  3050738.0|  3065223.0|  3076310.0|  3091930.0|  3108030.0|  3121997.0|  3134693.0|\n",
      "|              Kansas|  2858850.0|  2869503.0|  2885262.0|  2892821.0|  2899360.0|  2906721.0|  2907289.0|\n",
      "|            Kentucky|  4348662.0|  4369354.0|  4384799.0|  4400477.0|  4413057.0|  4424611.0|  4436974.0|\n",
      "|           Louisiana|  4544996.0|  4575404.0|  4603429.0|  4626402.0|  4647880.0|  4668960.0|  4681666.0|\n",
      "|               Maine|  1327730.0|  1328231.0|  1328895.0|  1329076.0|  1330719.0|  1329453.0|  1331479.0|\n",
      "|            Maryland|  5788584.0|  5843603.0|  5889651.0|  5931129.0|  5967295.0|  5994983.0|  6016447.0|\n",
      "+--------------------+-----------+-----------+-----------+-----------+-----------+-----------+-----------+\n",
      "only showing top 20 rows\n",
      "\n"
     ]
    }
   ],
   "source": [
    "reshaped_df.show()"
   ]
  },
  {
   "cell_type": "code",
   "execution_count": 96,
   "metadata": {},
   "outputs": [],
   "source": [
    "sdf = reshaped_df.withColumn('Ratio', reshaped_df[\"2014\"]-reshaped_df[\"2010\"])\n"
   ]
  },
  {
   "cell_type": "code",
   "execution_count": 97,
   "metadata": {},
   "outputs": [
    {
     "name": "stdout",
     "output_type": "stream",
     "text": [
      "+--------------------+-----------+-----------+-----------+-----------+-----------+-----------+-----------+---------+\n",
      "|               State|       2010|       2011|       2012|       2013|       2014|       2015|       2016|    Ratio|\n",
      "+--------------------+-----------+-----------+-----------+-----------+-----------+-----------+-----------+---------+\n",
      "|             Alabama|  4785492.0|  4779918.0|  4815960.0|  4829479.0|  4843214.0|  4853875.0|  4863300.0|  57722.0|\n",
      "|              Alaska|   714031.0|   722713.0|   731089.0|   736879.0|   736705.0|   737709.0|   741894.0|  22674.0|\n",
      "|             Arizona|  6408312.0|  6467163.0|  6549634.0|  6624617.0|  6719993.0|  6817565.0|  6931071.0| 311681.0|\n",
      "|            Arkansas|  2921995.0|  2939493.0|  2950685.0|  2958663.0|  2966912.0|  2977853.0|  2988248.0|  44917.0|\n",
      "|          California|3.7332684E7| 3.767686E7|3.8011072E7|3.8335204E7|3.8680808E7| 3.899394E7|3.9250016E7|1348124.0|\n",
      "|            Colorado|  5048644.0|  5118360.0|  5189867.0|  5267603.0|  5349648.0|  5448819.0|  5540545.0| 301004.0|\n",
      "|            Delaware|   899816.0|   907924.0|   916993.0|   925395.0|   934948.0|   944076.0|   952065.0|  35132.0|\n",
      "|District of Columbia|   605183.0|   620477.0|   635327.0|   649165.0|   659005.0|   670377.0|   681170.0|  53822.0|\n",
      "|             Florida|1.8849098E7|1.9096952E7|1.9344156E7|1.9582022E7| 1.988874E7|2.0244914E7| 2.061244E7|1039642.0|\n",
      "|             Georgia|  9713521.0|  9811610.0|  9914668.0|  9984938.0|1.0087231E7|1.0199398E7|1.0310371E7| 373710.0|\n",
      "|              Hawaii|  1363945.0|  1377864.0|  1391820.0|  1406481.0|  1416349.0|  1425157.0|  1428557.0|  52404.0|\n",
      "|               Idaho|  1571010.0|  1584143.0|  1595911.0|  1612011.0|  1633532.0|  1652828.0|  1683140.0|  62522.0|\n",
      "|            Illinois|1.2841578E7|1.2860012E7|1.2870798E7|1.2879505E7|1.2867544E7|1.2839047E7|1.2801539E7|  25966.0|\n",
      "|             Indiana|  6490528.0|  6516480.0|  6537743.0|  6569102.0|  6595233.0|  6612768.0|  6633053.0| 104705.0|\n",
      "|                Iowa|  3050738.0|  3065223.0|  3076310.0|  3091930.0|  3108030.0|  3121997.0|  3134693.0|  57292.0|\n",
      "|              Kansas|  2858850.0|  2869503.0|  2885262.0|  2892821.0|  2899360.0|  2906721.0|  2907289.0|  40510.0|\n",
      "|            Kentucky|  4348662.0|  4369354.0|  4384799.0|  4400477.0|  4413057.0|  4424611.0|  4436974.0|  64395.0|\n",
      "|           Louisiana|  4544996.0|  4575404.0|  4603429.0|  4626402.0|  4647880.0|  4668960.0|  4681666.0| 102884.0|\n",
      "|               Maine|  1327730.0|  1328231.0|  1328895.0|  1329076.0|  1330719.0|  1329453.0|  1331479.0|   2989.0|\n",
      "|            Maryland|  5788584.0|  5843603.0|  5889651.0|  5931129.0|  5967295.0|  5994983.0|  6016447.0| 178711.0|\n",
      "+--------------------+-----------+-----------+-----------+-----------+-----------+-----------+-----------+---------+\n",
      "only showing top 20 rows\n",
      "\n"
     ]
    },
    {
     "data": {
      "text/plain": [
       "<bound method DataFrame.printSchema of DataFrame[State: string, 2010: float, 2011: float, 2012: float, 2013: float, 2014: float, 2015: float, 2016: float, Ratio: float]>"
      ]
     },
     "execution_count": 97,
     "metadata": {},
     "output_type": "execute_result"
    }
   ],
   "source": [
    "sdf.show()\n",
    "sdf.printSchema"
   ]
  },
  {
   "cell_type": "code",
   "execution_count": 98,
   "metadata": {},
   "outputs": [
    {
     "name": "stdout",
     "output_type": "stream",
     "text": [
      "+--------------+---------+\n",
      "|         State|    Ratio|\n",
      "+--------------+---------+\n",
      "|         Texas|1700442.0|\n",
      "|    California|1348124.0|\n",
      "|       Florida|1039642.0|\n",
      "|North Carolina| 375484.0|\n",
      "|       Georgia| 373710.0|\n",
      "|      New York| 315876.0|\n",
      "|       Arizona| 311681.0|\n",
      "|    Washington| 310970.0|\n",
      "|      Colorado| 301004.0|\n",
      "|      Virginia| 291599.0|\n",
      "|South Carolina| 192487.0|\n",
      "|     Tennessee| 187992.0|\n",
      "| Massachusetts| 184387.0|\n",
      "|      Maryland| 178711.0|\n",
      "|          Utah| 166510.0|\n",
      "|     Minnesota| 141962.0|\n",
      "|        Oregon| 130323.0|\n",
      "|        Nevada| 129729.0|\n",
      "|    New Jersey| 121272.0|\n",
      "|      Oklahoma| 117896.0|\n",
      "+--------------+---------+\n",
      "only showing top 20 rows\n",
      "\n"
     ]
    }
   ],
   "source": [
    "s.orderBy(s[\"Ratio\"].desc()).select([\"State\", \"Ratio\"]).show()"
   ]
  },
  {
   "cell_type": "code",
   "execution_count": null,
   "metadata": {},
   "outputs": [],
   "source": []
  }
 ],
 "metadata": {
  "kernelspec": {
   "display_name": "Python 2",
   "language": "python",
   "name": "python2"
  },
  "language_info": {
   "codemirror_mode": {
    "name": "ipython",
    "version": 2
   },
   "file_extension": ".py",
   "mimetype": "text/x-python",
   "name": "python",
   "nbconvert_exporter": "python",
   "pygments_lexer": "ipython2",
   "version": "2.7.15"
  }
 },
 "nbformat": 4,
 "nbformat_minor": 2
}
